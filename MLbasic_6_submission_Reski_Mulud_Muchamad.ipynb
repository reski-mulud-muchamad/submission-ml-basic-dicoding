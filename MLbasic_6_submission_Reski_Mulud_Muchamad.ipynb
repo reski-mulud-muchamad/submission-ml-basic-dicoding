{
  "nbformat": 4,
  "nbformat_minor": 0,
  "metadata": {
    "colab": {
      "name": "MLbasic_6_submission_Reski_Mulud_Muchamad.ipynb",
      "provenance": [],
      "collapsed_sections": [],
      "toc_visible": true
    },
    "kernelspec": {
      "name": "python3",
      "display_name": "Python 3"
    },
    "language_info": {
      "name": "python"
    },
    "widgets": {
      "application/vnd.jupyter.widget-state+json": {
        "2eaacef79e1742e48eaacbaf4e0fa1c5": {
          "model_module": "@jupyter-widgets/controls",
          "model_name": "HBoxModel",
          "state": {
            "_view_name": "HBoxView",
            "_dom_classes": [],
            "_model_name": "HBoxModel",
            "_view_module": "@jupyter-widgets/controls",
            "_model_module_version": "1.5.0",
            "_view_count": null,
            "_view_module_version": "1.5.0",
            "box_style": "",
            "layout": "IPY_MODEL_a09cc9b514c64104910a40b44cdbc3b1",
            "_model_module": "@jupyter-widgets/controls",
            "children": [
              "IPY_MODEL_4e088967dc9c4eab92eb8bfb97180ad4",
              "IPY_MODEL_3eb0239f794742e18a3c5e00b6fc2685"
            ]
          }
        },
        "a09cc9b514c64104910a40b44cdbc3b1": {
          "model_module": "@jupyter-widgets/base",
          "model_name": "LayoutModel",
          "state": {
            "_view_name": "LayoutView",
            "grid_template_rows": null,
            "right": null,
            "justify_content": null,
            "_view_module": "@jupyter-widgets/base",
            "overflow": null,
            "_model_module_version": "1.2.0",
            "_view_count": null,
            "flex_flow": null,
            "width": null,
            "min_width": null,
            "border": null,
            "align_items": null,
            "bottom": null,
            "_model_module": "@jupyter-widgets/base",
            "top": null,
            "grid_column": null,
            "overflow_y": null,
            "overflow_x": null,
            "grid_auto_flow": null,
            "grid_area": null,
            "grid_template_columns": null,
            "flex": null,
            "_model_name": "LayoutModel",
            "justify_items": null,
            "grid_row": null,
            "max_height": null,
            "align_content": null,
            "visibility": null,
            "align_self": null,
            "height": null,
            "min_height": null,
            "padding": null,
            "grid_auto_rows": null,
            "grid_gap": null,
            "max_width": null,
            "order": null,
            "_view_module_version": "1.2.0",
            "grid_template_areas": null,
            "object_position": null,
            "object_fit": null,
            "grid_auto_columns": null,
            "margin": null,
            "display": null,
            "left": null
          }
        },
        "4e088967dc9c4eab92eb8bfb97180ad4": {
          "model_module": "@jupyter-widgets/controls",
          "model_name": "FloatProgressModel",
          "state": {
            "_view_name": "ProgressView",
            "style": "IPY_MODEL_69bc388cd0264853bb1e47f9f3661a43",
            "_dom_classes": [],
            "description": "",
            "_model_name": "FloatProgressModel",
            "bar_style": "success",
            "max": 1,
            "_view_module": "@jupyter-widgets/controls",
            "_model_module_version": "1.5.0",
            "value": 1,
            "_view_count": null,
            "_view_module_version": "1.5.0",
            "orientation": "horizontal",
            "min": 0,
            "description_tooltip": null,
            "_model_module": "@jupyter-widgets/controls",
            "layout": "IPY_MODEL_60b348375c2c4111bec36c5a5d44c997"
          }
        },
        "3eb0239f794742e18a3c5e00b6fc2685": {
          "model_module": "@jupyter-widgets/controls",
          "model_name": "HTMLModel",
          "state": {
            "_view_name": "HTMLView",
            "style": "IPY_MODEL_efbfe3c7e5854a7298e73ee0bd4dcf62",
            "_dom_classes": [],
            "description": "",
            "_model_name": "HTMLModel",
            "placeholder": "​",
            "_view_module": "@jupyter-widgets/controls",
            "_model_module_version": "1.5.0",
            "value": " 2188/? [00:37&lt;00:00, 58.58it/s]",
            "_view_count": null,
            "_view_module_version": "1.5.0",
            "description_tooltip": null,
            "_model_module": "@jupyter-widgets/controls",
            "layout": "IPY_MODEL_61659e74def7463da9c33f433197f369"
          }
        },
        "69bc388cd0264853bb1e47f9f3661a43": {
          "model_module": "@jupyter-widgets/controls",
          "model_name": "ProgressStyleModel",
          "state": {
            "_view_name": "StyleView",
            "_model_name": "ProgressStyleModel",
            "description_width": "initial",
            "_view_module": "@jupyter-widgets/base",
            "_model_module_version": "1.5.0",
            "_view_count": null,
            "_view_module_version": "1.2.0",
            "bar_color": null,
            "_model_module": "@jupyter-widgets/controls"
          }
        },
        "60b348375c2c4111bec36c5a5d44c997": {
          "model_module": "@jupyter-widgets/base",
          "model_name": "LayoutModel",
          "state": {
            "_view_name": "LayoutView",
            "grid_template_rows": null,
            "right": null,
            "justify_content": null,
            "_view_module": "@jupyter-widgets/base",
            "overflow": null,
            "_model_module_version": "1.2.0",
            "_view_count": null,
            "flex_flow": null,
            "width": null,
            "min_width": null,
            "border": null,
            "align_items": null,
            "bottom": null,
            "_model_module": "@jupyter-widgets/base",
            "top": null,
            "grid_column": null,
            "overflow_y": null,
            "overflow_x": null,
            "grid_auto_flow": null,
            "grid_area": null,
            "grid_template_columns": null,
            "flex": null,
            "_model_name": "LayoutModel",
            "justify_items": null,
            "grid_row": null,
            "max_height": null,
            "align_content": null,
            "visibility": null,
            "align_self": null,
            "height": null,
            "min_height": null,
            "padding": null,
            "grid_auto_rows": null,
            "grid_gap": null,
            "max_width": null,
            "order": null,
            "_view_module_version": "1.2.0",
            "grid_template_areas": null,
            "object_position": null,
            "object_fit": null,
            "grid_auto_columns": null,
            "margin": null,
            "display": null,
            "left": null
          }
        },
        "efbfe3c7e5854a7298e73ee0bd4dcf62": {
          "model_module": "@jupyter-widgets/controls",
          "model_name": "DescriptionStyleModel",
          "state": {
            "_view_name": "StyleView",
            "_model_name": "DescriptionStyleModel",
            "description_width": "",
            "_view_module": "@jupyter-widgets/base",
            "_model_module_version": "1.5.0",
            "_view_count": null,
            "_view_module_version": "1.2.0",
            "_model_module": "@jupyter-widgets/controls"
          }
        },
        "61659e74def7463da9c33f433197f369": {
          "model_module": "@jupyter-widgets/base",
          "model_name": "LayoutModel",
          "state": {
            "_view_name": "LayoutView",
            "grid_template_rows": null,
            "right": null,
            "justify_content": null,
            "_view_module": "@jupyter-widgets/base",
            "overflow": null,
            "_model_module_version": "1.2.0",
            "_view_count": null,
            "flex_flow": null,
            "width": null,
            "min_width": null,
            "border": null,
            "align_items": null,
            "bottom": null,
            "_model_module": "@jupyter-widgets/base",
            "top": null,
            "grid_column": null,
            "overflow_y": null,
            "overflow_x": null,
            "grid_auto_flow": null,
            "grid_area": null,
            "grid_template_columns": null,
            "flex": null,
            "_model_name": "LayoutModel",
            "justify_items": null,
            "grid_row": null,
            "max_height": null,
            "align_content": null,
            "visibility": null,
            "align_self": null,
            "height": null,
            "min_height": null,
            "padding": null,
            "grid_auto_rows": null,
            "grid_gap": null,
            "max_width": null,
            "order": null,
            "_view_module_version": "1.2.0",
            "grid_template_areas": null,
            "object_position": null,
            "object_fit": null,
            "grid_auto_columns": null,
            "margin": null,
            "display": null,
            "left": null
          }
        }
      }
    }
  },
  "cells": [
    {
      "cell_type": "markdown",
      "metadata": {
        "id": "wWphesmTb4pk"
      },
      "source": [
        "# Submission : Klasifikasi Gambar\n",
        "Submission berupa program jaringan saraf tiruan menggunakan TensorFlow. Program harus mampu mengenali bentuk tangan yang membentuk gunting, batu, atau kertas.\n",
        "\n",
        "Nama : Reski Mulud Muchamad <br>\n",
        "ID Dicoding : [reski-mulud](https://dicoding.com/users/reski-mulud) <br>\n",
        "e-mail : [reski.mulud@gmail.com](mailto:reski.mulud@gmail.com) <br>"
      ]
    },
    {
      "cell_type": "markdown",
      "metadata": {
        "id": "edYmhtCOswB_"
      },
      "source": [
        "# Mempersiapkan Datasets\n",
        "\n",
        "\n",
        "1.   Mengunduh data (source : https://dicodingacademy.blob.core.windows.net/picodiploma/ml_pemula_academy/rockpaperscissors.zip)\n",
        "2.   Mengekstract data menggunakan metode unzip (library: zipfile)\n",
        "3. Mengubah datasets menjadi dataframe\n",
        "\n"
      ]
    },
    {
      "cell_type": "markdown",
      "metadata": {
        "id": "ymn-QtXg73nb"
      },
      "source": [
        "## Mendownload Datasets"
      ]
    },
    {
      "cell_type": "code",
      "metadata": {
        "colab": {
          "base_uri": "https://localhost:8080/"
        },
        "id": "d0PBzgEVboAH",
        "outputId": "408c2cfe-547b-489b-fb53-981c5b933f19"
      },
      "source": [
        "# download datasets menggnakan widget\n",
        "!wget --no-check-certificate \\\n",
        "  https://dicodingacademy.blob.core.windows.net/picodiploma/ml_pemula_academy/rockpaperscissors.zip \\\n",
        "  -O /tmp/rockpaperscissors.zip"
      ],
      "execution_count": 1,
      "outputs": [
        {
          "output_type": "stream",
          "text": [
            "--2021-04-27 13:42:39--  https://dicodingacademy.blob.core.windows.net/picodiploma/ml_pemula_academy/rockpaperscissors.zip\n",
            "Resolving dicodingacademy.blob.core.windows.net (dicodingacademy.blob.core.windows.net)... 52.239.197.36\n",
            "Connecting to dicodingacademy.blob.core.windows.net (dicodingacademy.blob.core.windows.net)|52.239.197.36|:443... connected.\n",
            "HTTP request sent, awaiting response... 200 OK\n",
            "Length: 322873683 (308M) [application/zip]\n",
            "Saving to: ‘/tmp/rockpaperscissors.zip’\n",
            "\n",
            "/tmp/rockpapersciss 100%[===================>] 307.92M  6.85MB/s    in 50s     \n",
            "\n",
            "2021-04-27 13:43:29 (6.17 MB/s) - ‘/tmp/rockpaperscissors.zip’ saved [322873683/322873683]\n",
            "\n"
          ],
          "name": "stdout"
        }
      ]
    },
    {
      "cell_type": "code",
      "metadata": {
        "id": "A6zo_YyltrMd"
      },
      "source": [
        "# proses mengekstrak data\n",
        "import zipfile, os\n",
        "\n",
        "local_zip = '/tmp/rockpaperscissors.zip'\n",
        "zip_ref = zipfile.ZipFile(local_zip, 'r')\n",
        "zip_ref.extractall('/tmp/')\n",
        "zip_ref.close()\n",
        "\n",
        "base_dir = '/tmp/rockpaperscissors/rps-cv-images'"
      ],
      "execution_count": 2,
      "outputs": []
    },
    {
      "cell_type": "code",
      "metadata": {
        "colab": {
          "base_uri": "https://localhost:8080/"
        },
        "id": "zcPpIFJEuSc6",
        "outputId": "9d42b8c5-4220-4157-f435-4472272b0a9c"
      },
      "source": [
        "os.remove(base_dir + '/README_rpc-cv-images.txt')\n",
        "os.listdir(base_dir)"
      ],
      "execution_count": 3,
      "outputs": [
        {
          "output_type": "execute_result",
          "data": {
            "text/plain": [
              "['paper', 'scissors', 'rock']"
            ]
          },
          "metadata": {
            "tags": []
          },
          "execution_count": 3
        }
      ]
    },
    {
      "cell_type": "code",
      "metadata": {
        "colab": {
          "base_uri": "https://localhost:8080/"
        },
        "id": "J6nudX01w0Il",
        "outputId": "f3f17b43-81ef-4453-ed32-eb871e1e0d14"
      },
      "source": [
        "# mengubah dataset kedalam dataframe\n",
        "import pandas as pd\n",
        "\n",
        "# looping data\n",
        "file_name = []\n",
        "path_name =  []\n",
        "tag = []\n",
        "for path, subdirs, files in os.walk(base_dir) :\n",
        "  for name in files :\n",
        "    path_name.append(os.path.join(path, name))\n",
        "    tag.append(path.split('/')[-1])\n",
        "    file_name.append(name)\n",
        "\n",
        "# memasukan data yang telah dikumpulkan pada looping kedalam dataframe\n",
        "df = pd.DataFrame({\"path\":path_name,'file_name':file_name,\"tag\":tag})\n",
        "df.groupby(['tag']).size()"
      ],
      "execution_count": 4,
      "outputs": [
        {
          "output_type": "execute_result",
          "data": {
            "text/plain": [
              "tag\n",
              "paper       712\n",
              "rock        726\n",
              "scissors    750\n",
              "dtype: int64"
            ]
          },
          "metadata": {
            "tags": []
          },
          "execution_count": 4
        }
      ]
    },
    {
      "cell_type": "code",
      "metadata": {
        "colab": {
          "base_uri": "https://localhost:8080/",
          "height": 204
        },
        "id": "SiA2GbHMzDTm",
        "outputId": "a0ff0b2a-597b-4425-b663-8ff425473e5c"
      },
      "source": [
        "# cek sample dataframe\n",
        "df.head()"
      ],
      "execution_count": 5,
      "outputs": [
        {
          "output_type": "execute_result",
          "data": {
            "text/html": [
              "<div>\n",
              "<style scoped>\n",
              "    .dataframe tbody tr th:only-of-type {\n",
              "        vertical-align: middle;\n",
              "    }\n",
              "\n",
              "    .dataframe tbody tr th {\n",
              "        vertical-align: top;\n",
              "    }\n",
              "\n",
              "    .dataframe thead th {\n",
              "        text-align: right;\n",
              "    }\n",
              "</style>\n",
              "<table border=\"1\" class=\"dataframe\">\n",
              "  <thead>\n",
              "    <tr style=\"text-align: right;\">\n",
              "      <th></th>\n",
              "      <th>path</th>\n",
              "      <th>file_name</th>\n",
              "      <th>tag</th>\n",
              "    </tr>\n",
              "  </thead>\n",
              "  <tbody>\n",
              "    <tr>\n",
              "      <th>0</th>\n",
              "      <td>/tmp/rockpaperscissors/rps-cv-images/paper/jCT...</td>\n",
              "      <td>jCTsslbOLn04znvK.png</td>\n",
              "      <td>paper</td>\n",
              "    </tr>\n",
              "    <tr>\n",
              "      <th>1</th>\n",
              "      <td>/tmp/rockpaperscissors/rps-cv-images/paper/84J...</td>\n",
              "      <td>84JL84r6Jcpp5Udi.png</td>\n",
              "      <td>paper</td>\n",
              "    </tr>\n",
              "    <tr>\n",
              "      <th>2</th>\n",
              "      <td>/tmp/rockpaperscissors/rps-cv-images/paper/yB1...</td>\n",
              "      <td>yB11HwUEuYHhVlKo.png</td>\n",
              "      <td>paper</td>\n",
              "    </tr>\n",
              "    <tr>\n",
              "      <th>3</th>\n",
              "      <td>/tmp/rockpaperscissors/rps-cv-images/paper/KqC...</td>\n",
              "      <td>KqCGmJ8WCrqE5Uvg.png</td>\n",
              "      <td>paper</td>\n",
              "    </tr>\n",
              "    <tr>\n",
              "      <th>4</th>\n",
              "      <td>/tmp/rockpaperscissors/rps-cv-images/paper/PTj...</td>\n",
              "      <td>PTjpGk2rKf6mhx9z.png</td>\n",
              "      <td>paper</td>\n",
              "    </tr>\n",
              "  </tbody>\n",
              "</table>\n",
              "</div>"
            ],
            "text/plain": [
              "                                                path  ...    tag\n",
              "0  /tmp/rockpaperscissors/rps-cv-images/paper/jCT...  ...  paper\n",
              "1  /tmp/rockpaperscissors/rps-cv-images/paper/84J...  ...  paper\n",
              "2  /tmp/rockpaperscissors/rps-cv-images/paper/yB1...  ...  paper\n",
              "3  /tmp/rockpaperscissors/rps-cv-images/paper/KqC...  ...  paper\n",
              "4  /tmp/rockpaperscissors/rps-cv-images/paper/PTj...  ...  paper\n",
              "\n",
              "[5 rows x 3 columns]"
            ]
          },
          "metadata": {
            "tags": []
          },
          "execution_count": 5
        }
      ]
    },
    {
      "cell_type": "markdown",
      "metadata": {
        "id": "SYD3vvhLzRgG"
      },
      "source": [
        "## Membagi data menjadi train dan validation\n",
        "**Split data** : Data dibagi menjadi 2 bagian, 60% untuk data training, dan 40% untuk validation"
      ]
    },
    {
      "cell_type": "code",
      "metadata": {
        "id": "QPp4ZmGEzUDc"
      },
      "source": [
        "# import library\n",
        "from sklearn.model_selection import train_test_split"
      ],
      "execution_count": 6,
      "outputs": []
    },
    {
      "cell_type": "code",
      "metadata": {
        "id": "3Bwy3Jle0JQd"
      },
      "source": [
        "# split data\n",
        "x = df['path']\n",
        "y = df['tag']\n",
        "\n",
        "x_train, x_test, y_train, y_test = train_test_split(x, y, test_size=0.4, random_state=1)"
      ],
      "execution_count": 7,
      "outputs": []
    },
    {
      "cell_type": "code",
      "metadata": {
        "id": "SJnug5243Kss"
      },
      "source": [
        "# menyatukan masing2 data kedalam dataframe\n",
        "df_train = pd.DataFrame({'path': x_train, 'tag': y_train, 'set': 'train'})\n",
        "df_val = pd.DataFrame({'path': x_test, 'tag': y_test, 'set': 'val'})"
      ],
      "execution_count": 8,
      "outputs": []
    },
    {
      "cell_type": "code",
      "metadata": {
        "colab": {
          "base_uri": "https://localhost:8080/",
          "height": 419
        },
        "id": "31WLXdh6405B",
        "outputId": "32f3ca5b-9a7f-4445-89cf-8d4c16587f49"
      },
      "source": [
        "df_train"
      ],
      "execution_count": 9,
      "outputs": [
        {
          "output_type": "execute_result",
          "data": {
            "text/html": [
              "<div>\n",
              "<style scoped>\n",
              "    .dataframe tbody tr th:only-of-type {\n",
              "        vertical-align: middle;\n",
              "    }\n",
              "\n",
              "    .dataframe tbody tr th {\n",
              "        vertical-align: top;\n",
              "    }\n",
              "\n",
              "    .dataframe thead th {\n",
              "        text-align: right;\n",
              "    }\n",
              "</style>\n",
              "<table border=\"1\" class=\"dataframe\">\n",
              "  <thead>\n",
              "    <tr style=\"text-align: right;\">\n",
              "      <th></th>\n",
              "      <th>path</th>\n",
              "      <th>tag</th>\n",
              "      <th>set</th>\n",
              "    </tr>\n",
              "  </thead>\n",
              "  <tbody>\n",
              "    <tr>\n",
              "      <th>1037</th>\n",
              "      <td>/tmp/rockpaperscissors/rps-cv-images/scissors/...</td>\n",
              "      <td>scissors</td>\n",
              "      <td>train</td>\n",
              "    </tr>\n",
              "    <tr>\n",
              "      <th>1529</th>\n",
              "      <td>/tmp/rockpaperscissors/rps-cv-images/rock/zrrY...</td>\n",
              "      <td>rock</td>\n",
              "      <td>train</td>\n",
              "    </tr>\n",
              "    <tr>\n",
              "      <th>769</th>\n",
              "      <td>/tmp/rockpaperscissors/rps-cv-images/scissors/...</td>\n",
              "      <td>scissors</td>\n",
              "      <td>train</td>\n",
              "    </tr>\n",
              "    <tr>\n",
              "      <th>599</th>\n",
              "      <td>/tmp/rockpaperscissors/rps-cv-images/paper/tfM...</td>\n",
              "      <td>paper</td>\n",
              "      <td>train</td>\n",
              "    </tr>\n",
              "    <tr>\n",
              "      <th>401</th>\n",
              "      <td>/tmp/rockpaperscissors/rps-cv-images/paper/4bk...</td>\n",
              "      <td>paper</td>\n",
              "      <td>train</td>\n",
              "    </tr>\n",
              "    <tr>\n",
              "      <th>...</th>\n",
              "      <td>...</td>\n",
              "      <td>...</td>\n",
              "      <td>...</td>\n",
              "    </tr>\n",
              "    <tr>\n",
              "      <th>960</th>\n",
              "      <td>/tmp/rockpaperscissors/rps-cv-images/scissors/...</td>\n",
              "      <td>scissors</td>\n",
              "      <td>train</td>\n",
              "    </tr>\n",
              "    <tr>\n",
              "      <th>905</th>\n",
              "      <td>/tmp/rockpaperscissors/rps-cv-images/scissors/...</td>\n",
              "      <td>scissors</td>\n",
              "      <td>train</td>\n",
              "    </tr>\n",
              "    <tr>\n",
              "      <th>1096</th>\n",
              "      <td>/tmp/rockpaperscissors/rps-cv-images/scissors/...</td>\n",
              "      <td>scissors</td>\n",
              "      <td>train</td>\n",
              "    </tr>\n",
              "    <tr>\n",
              "      <th>235</th>\n",
              "      <td>/tmp/rockpaperscissors/rps-cv-images/paper/Cbi...</td>\n",
              "      <td>paper</td>\n",
              "      <td>train</td>\n",
              "    </tr>\n",
              "    <tr>\n",
              "      <th>1061</th>\n",
              "      <td>/tmp/rockpaperscissors/rps-cv-images/scissors/...</td>\n",
              "      <td>scissors</td>\n",
              "      <td>train</td>\n",
              "    </tr>\n",
              "  </tbody>\n",
              "</table>\n",
              "<p>1312 rows × 3 columns</p>\n",
              "</div>"
            ],
            "text/plain": [
              "                                                   path       tag    set\n",
              "1037  /tmp/rockpaperscissors/rps-cv-images/scissors/...  scissors  train\n",
              "1529  /tmp/rockpaperscissors/rps-cv-images/rock/zrrY...      rock  train\n",
              "769   /tmp/rockpaperscissors/rps-cv-images/scissors/...  scissors  train\n",
              "599   /tmp/rockpaperscissors/rps-cv-images/paper/tfM...     paper  train\n",
              "401   /tmp/rockpaperscissors/rps-cv-images/paper/4bk...     paper  train\n",
              "...                                                 ...       ...    ...\n",
              "960   /tmp/rockpaperscissors/rps-cv-images/scissors/...  scissors  train\n",
              "905   /tmp/rockpaperscissors/rps-cv-images/scissors/...  scissors  train\n",
              "1096  /tmp/rockpaperscissors/rps-cv-images/scissors/...  scissors  train\n",
              "235   /tmp/rockpaperscissors/rps-cv-images/paper/Cbi...     paper  train\n",
              "1061  /tmp/rockpaperscissors/rps-cv-images/scissors/...  scissors  train\n",
              "\n",
              "[1312 rows x 3 columns]"
            ]
          },
          "metadata": {
            "tags": []
          },
          "execution_count": 9
        }
      ]
    },
    {
      "cell_type": "code",
      "metadata": {
        "colab": {
          "base_uri": "https://localhost:8080/",
          "height": 419
        },
        "id": "UcmHlDfX45wh",
        "outputId": "a2b8c7d7-2fdd-42ff-9f89-fef8ff13c039"
      },
      "source": [
        "df_val"
      ],
      "execution_count": 10,
      "outputs": [
        {
          "output_type": "execute_result",
          "data": {
            "text/html": [
              "<div>\n",
              "<style scoped>\n",
              "    .dataframe tbody tr th:only-of-type {\n",
              "        vertical-align: middle;\n",
              "    }\n",
              "\n",
              "    .dataframe tbody tr th {\n",
              "        vertical-align: top;\n",
              "    }\n",
              "\n",
              "    .dataframe thead th {\n",
              "        text-align: right;\n",
              "    }\n",
              "</style>\n",
              "<table border=\"1\" class=\"dataframe\">\n",
              "  <thead>\n",
              "    <tr style=\"text-align: right;\">\n",
              "      <th></th>\n",
              "      <th>path</th>\n",
              "      <th>tag</th>\n",
              "      <th>set</th>\n",
              "    </tr>\n",
              "  </thead>\n",
              "  <tbody>\n",
              "    <tr>\n",
              "      <th>1556</th>\n",
              "      <td>/tmp/rockpaperscissors/rps-cv-images/rock/NpJE...</td>\n",
              "      <td>rock</td>\n",
              "      <td>val</td>\n",
              "    </tr>\n",
              "    <tr>\n",
              "      <th>201</th>\n",
              "      <td>/tmp/rockpaperscissors/rps-cv-images/paper/rX4...</td>\n",
              "      <td>paper</td>\n",
              "      <td>val</td>\n",
              "    </tr>\n",
              "    <tr>\n",
              "      <th>2006</th>\n",
              "      <td>/tmp/rockpaperscissors/rps-cv-images/rock/PHtj...</td>\n",
              "      <td>rock</td>\n",
              "      <td>val</td>\n",
              "    </tr>\n",
              "    <tr>\n",
              "      <th>763</th>\n",
              "      <td>/tmp/rockpaperscissors/rps-cv-images/scissors/...</td>\n",
              "      <td>scissors</td>\n",
              "      <td>val</td>\n",
              "    </tr>\n",
              "    <tr>\n",
              "      <th>1073</th>\n",
              "      <td>/tmp/rockpaperscissors/rps-cv-images/scissors/...</td>\n",
              "      <td>scissors</td>\n",
              "      <td>val</td>\n",
              "    </tr>\n",
              "    <tr>\n",
              "      <th>...</th>\n",
              "      <td>...</td>\n",
              "      <td>...</td>\n",
              "      <td>...</td>\n",
              "    </tr>\n",
              "    <tr>\n",
              "      <th>427</th>\n",
              "      <td>/tmp/rockpaperscissors/rps-cv-images/paper/RtF...</td>\n",
              "      <td>paper</td>\n",
              "      <td>val</td>\n",
              "    </tr>\n",
              "    <tr>\n",
              "      <th>289</th>\n",
              "      <td>/tmp/rockpaperscissors/rps-cv-images/paper/4hc...</td>\n",
              "      <td>paper</td>\n",
              "      <td>val</td>\n",
              "    </tr>\n",
              "    <tr>\n",
              "      <th>1889</th>\n",
              "      <td>/tmp/rockpaperscissors/rps-cv-images/rock/2EAk...</td>\n",
              "      <td>rock</td>\n",
              "      <td>val</td>\n",
              "    </tr>\n",
              "    <tr>\n",
              "      <th>529</th>\n",
              "      <td>/tmp/rockpaperscissors/rps-cv-images/paper/ClP...</td>\n",
              "      <td>paper</td>\n",
              "      <td>val</td>\n",
              "    </tr>\n",
              "    <tr>\n",
              "      <th>1496</th>\n",
              "      <td>/tmp/rockpaperscissors/rps-cv-images/rock/43pA...</td>\n",
              "      <td>rock</td>\n",
              "      <td>val</td>\n",
              "    </tr>\n",
              "  </tbody>\n",
              "</table>\n",
              "<p>876 rows × 3 columns</p>\n",
              "</div>"
            ],
            "text/plain": [
              "                                                   path       tag  set\n",
              "1556  /tmp/rockpaperscissors/rps-cv-images/rock/NpJE...      rock  val\n",
              "201   /tmp/rockpaperscissors/rps-cv-images/paper/rX4...     paper  val\n",
              "2006  /tmp/rockpaperscissors/rps-cv-images/rock/PHtj...      rock  val\n",
              "763   /tmp/rockpaperscissors/rps-cv-images/scissors/...  scissors  val\n",
              "1073  /tmp/rockpaperscissors/rps-cv-images/scissors/...  scissors  val\n",
              "...                                                 ...       ...  ...\n",
              "427   /tmp/rockpaperscissors/rps-cv-images/paper/RtF...     paper  val\n",
              "289   /tmp/rockpaperscissors/rps-cv-images/paper/4hc...     paper  val\n",
              "1889  /tmp/rockpaperscissors/rps-cv-images/rock/2EAk...      rock  val\n",
              "529   /tmp/rockpaperscissors/rps-cv-images/paper/ClP...     paper  val\n",
              "1496  /tmp/rockpaperscissors/rps-cv-images/rock/43pA...      rock  val\n",
              "\n",
              "[876 rows x 3 columns]"
            ]
          },
          "metadata": {
            "tags": []
          },
          "execution_count": 10
        }
      ]
    },
    {
      "cell_type": "code",
      "metadata": {
        "colab": {
          "base_uri": "https://localhost:8080/",
          "height": 363
        },
        "id": "GrnLcray8o1P",
        "outputId": "74f251a3-3301-4d28-d256-2ed641184bb4"
      },
      "source": [
        "# melihat proporsi pada masing masing set apakah sudah ok atau masih ada yang ingin diubah\n",
        "df_all = df_train.append(df_val).reset_index(drop=1)\\\n",
        "\n",
        "print('===================================================== \\n')\n",
        "print(df_all.groupby(['set','tag']).size(),'\\n')\n",
        "\n",
        "print('===================================================== \\n')\n",
        "\n",
        "#cek sample datanya\n",
        "df_all.sample(3)"
      ],
      "execution_count": 11,
      "outputs": [
        {
          "output_type": "stream",
          "text": [
            "===================================================== \n",
            "\n",
            "set    tag     \n",
            "train  paper       423\n",
            "       rock        434\n",
            "       scissors    455\n",
            "val    paper       289\n",
            "       rock        292\n",
            "       scissors    295\n",
            "dtype: int64 \n",
            "\n",
            "===================================================== \n",
            "\n"
          ],
          "name": "stdout"
        },
        {
          "output_type": "execute_result",
          "data": {
            "text/html": [
              "<div>\n",
              "<style scoped>\n",
              "    .dataframe tbody tr th:only-of-type {\n",
              "        vertical-align: middle;\n",
              "    }\n",
              "\n",
              "    .dataframe tbody tr th {\n",
              "        vertical-align: top;\n",
              "    }\n",
              "\n",
              "    .dataframe thead th {\n",
              "        text-align: right;\n",
              "    }\n",
              "</style>\n",
              "<table border=\"1\" class=\"dataframe\">\n",
              "  <thead>\n",
              "    <tr style=\"text-align: right;\">\n",
              "      <th></th>\n",
              "      <th>path</th>\n",
              "      <th>tag</th>\n",
              "      <th>set</th>\n",
              "    </tr>\n",
              "  </thead>\n",
              "  <tbody>\n",
              "    <tr>\n",
              "      <th>963</th>\n",
              "      <td>/tmp/rockpaperscissors/rps-cv-images/paper/Vrh...</td>\n",
              "      <td>paper</td>\n",
              "      <td>train</td>\n",
              "    </tr>\n",
              "    <tr>\n",
              "      <th>1510</th>\n",
              "      <td>/tmp/rockpaperscissors/rps-cv-images/scissors/...</td>\n",
              "      <td>scissors</td>\n",
              "      <td>val</td>\n",
              "    </tr>\n",
              "    <tr>\n",
              "      <th>230</th>\n",
              "      <td>/tmp/rockpaperscissors/rps-cv-images/scissors/...</td>\n",
              "      <td>scissors</td>\n",
              "      <td>train</td>\n",
              "    </tr>\n",
              "  </tbody>\n",
              "</table>\n",
              "</div>"
            ],
            "text/plain": [
              "                                                   path       tag    set\n",
              "963   /tmp/rockpaperscissors/rps-cv-images/paper/Vrh...     paper  train\n",
              "1510  /tmp/rockpaperscissors/rps-cv-images/scissors/...  scissors    val\n",
              "230   /tmp/rockpaperscissors/rps-cv-images/scissors/...  scissors  train"
            ]
          },
          "metadata": {
            "tags": []
          },
          "execution_count": 11
        }
      ]
    },
    {
      "cell_type": "markdown",
      "metadata": {
        "id": "g97OA6Kq5tIg"
      },
      "source": [
        "## Merapihkan folder\n",
        "Setelah membagi data menjadi train dan val kedalam dataframe, file akan dipisahkan dan dimasukan kedalam folder train dan val sesuai data yang ada di dataframe(df_train, df_val). Penamaan folder juga berguna untuk pelebelan data"
      ]
    },
    {
      "cell_type": "code",
      "metadata": {
        "id": "QyroEKb549UX"
      },
      "source": [
        "# import library\n",
        "import shutil\n",
        "from tqdm.notebook import tqdm"
      ],
      "execution_count": 12,
      "outputs": []
    },
    {
      "cell_type": "code",
      "metadata": {
        "id": "HvEtyASr6uxU"
      },
      "source": [
        "source_path = base_dir + '/'\n",
        "datasets_path = '/tmp/rockpaperscissors/datasets/'"
      ],
      "execution_count": 13,
      "outputs": []
    },
    {
      "cell_type": "code",
      "metadata": {
        "colab": {
          "base_uri": "https://localhost:8080/",
          "height": 66,
          "referenced_widgets": [
            "2eaacef79e1742e48eaacbaf4e0fa1c5",
            "a09cc9b514c64104910a40b44cdbc3b1",
            "4e088967dc9c4eab92eb8bfb97180ad4",
            "3eb0239f794742e18a3c5e00b6fc2685",
            "69bc388cd0264853bb1e47f9f3661a43",
            "60b348375c2c4111bec36c5a5d44c997",
            "efbfe3c7e5854a7298e73ee0bd4dcf62",
            "61659e74def7463da9c33f433197f369"
          ]
        },
        "id": "WzkNBEYW7RGZ",
        "outputId": "b09ccef1-7a55-4f12-ece5-2693aacd7f45"
      },
      "source": [
        "for index, row, in tqdm(df_all.iterrows()) :\n",
        "  # menemukan filepath\n",
        "  file_path = row['path']\n",
        "  if os.path.exists(file_path) == False :\n",
        "    file_path = os.path.join(source_path,row['path'],row['image'].split('.')[0])\n",
        "    \n",
        "  # membuat direktori folder destinasi\n",
        "  if os.path.exists(os.path.join(datasets_path,row['set'],row['tag'])) == False:\n",
        "    os.makedirs(os.path.join(datasets_path,row['set'],row['tag']))\n",
        "\n",
        "  # mendefinisikan direktori file\n",
        "  destination_file_name = file_path.split('/')[-1]\n",
        "  file_dest = os.path.join(datasets_path,row['set'],row['tag'],destination_file_name)\n",
        "\n",
        "  # memindahkan file\n",
        "  if os.path.exists(file_dest) == False :\n",
        "    shutil.copy2(file_path, file_dest)\n"
      ],
      "execution_count": 14,
      "outputs": [
        {
          "output_type": "display_data",
          "data": {
            "application/vnd.jupyter.widget-view+json": {
              "model_id": "2eaacef79e1742e48eaacbaf4e0fa1c5",
              "version_minor": 0,
              "version_major": 2
            },
            "text/plain": [
              "HBox(children=(FloatProgress(value=1.0, bar_style='info', max=1.0), HTML(value='')))"
            ]
          },
          "metadata": {
            "tags": []
          }
        },
        {
          "output_type": "stream",
          "text": [
            "\n"
          ],
          "name": "stdout"
        }
      ]
    },
    {
      "cell_type": "code",
      "metadata": {
        "id": "oCYuFWsQBObx"
      },
      "source": [
        "train_dir = os.path.join(datasets_path, 'train')\n",
        "val_dir = os.path.join(datasets_path, 'val')"
      ],
      "execution_count": 15,
      "outputs": []
    },
    {
      "cell_type": "code",
      "metadata": {
        "colab": {
          "base_uri": "https://localhost:8080/"
        },
        "id": "7btPAFAbBVyV",
        "outputId": "a2b83f19-bee3-4a2f-8da6-3b4789a421cf"
      },
      "source": [
        "print(\"Data Training : \", os.listdir(train_dir))\n",
        "train_rock = os.path.join(train_dir, 'rock')\n",
        "train_scissors = os.path.join(train_dir, 'scissors')\n",
        "train_paper = os.path.join(train_dir, 'paper')\n",
        "\n",
        "print()\n",
        "\n",
        "print(\"Batu : \", os.listdir(train_rock)[:5])\n",
        "print(\"Gunting : \", os.listdir(train_scissors)[:5])\n",
        "print(\"Kertas : \", os.listdir(train_paper)[:5])"
      ],
      "execution_count": 16,
      "outputs": [
        {
          "output_type": "stream",
          "text": [
            "Data Training :  ['paper', 'scissors', 'rock']\n",
            "\n",
            "Batu :  ['5uXiqEc4q2Vi0NCX.png', 'RYxKlMYeLJcQ63zQ.png', '00nKV8oHuTGi20gq.png', 'CpWDLKaUbf6poyIj.png', '19H63c0MWD56EWNq.png']\n",
            "Gunting :  ['dxFGJyDhnNu3iOmm.png', 'M7i5TSor3J09Sy1O.png', 'AIdBo3sdoduT52KJ.png', 'uI2O1DwI1nIIx9Qu.png', 'a9YV7Tzoj751vTun.png']\n",
            "Kertas :  ['yB11HwUEuYHhVlKo.png', 'PTjpGk2rKf6mhx9z.png', '7IYZ788SAadhvemj.png', 'n10pI9JDPyeM0P73.png', 'cI2tl5vM2koXZPfG.png']\n"
          ],
          "name": "stdout"
        }
      ]
    },
    {
      "cell_type": "code",
      "metadata": {
        "colab": {
          "base_uri": "https://localhost:8080/"
        },
        "id": "BHdVhY3RCCyv",
        "outputId": "e8185dd5-1d62-4e81-c40a-2e4c9378bd59"
      },
      "source": [
        "print(\"Data Validation : \", os.listdir(val_dir))\n",
        "val_rock = os.path.join(val_dir, 'rock')\n",
        "val_scissors = os.path.join(val_dir, 'scissors')\n",
        "val_paper = os.path.join(val_dir, 'paper')\n",
        "\n",
        "print()\n",
        "\n",
        "print(\"Batu : \", os.listdir(val_rock)[:5])\n",
        "print(\"Gunting : \", os.listdir(val_scissors)[:5])\n",
        "print(\"Kertas : \", os.listdir(val_paper)[:5])"
      ],
      "execution_count": 17,
      "outputs": [
        {
          "output_type": "stream",
          "text": [
            "Data Validation :  ['paper', 'scissors', 'rock']\n",
            "\n",
            "Batu :  ['PXIxKdf4DvyHXy89.png', '02vG75hQW9Vp4oTl.png', 'Yzx0RwB2AFNAvC6s.png', 'PP5HF3TrSg1DzqjX.png', 'TLbqMqwDrww8CS0p.png']\n",
            "Gunting :  ['Ea5uaRMj6JwEAEtn.png', 'Hkq2KHtnKxyBLLPU.png', 'hyQDSSjNFHX7Wirc.png', 'Ep0yJCcioRpgZquy.png', 'V14OoL0RMpvwPptc.png']\n",
            "Kertas :  ['jCTsslbOLn04znvK.png', '84JL84r6Jcpp5Udi.png', 'KqCGmJ8WCrqE5Uvg.png', 'QqPSoi6Vj2Vbua3V.png', '5FVy5hSvZ9c0M2Y5.png']\n"
          ],
          "name": "stdout"
        }
      ]
    },
    {
      "cell_type": "code",
      "metadata": {
        "id": "R0528hhWCm3e"
      },
      "source": [
        "\"\"\"\n",
        "Hal selanjutnya adalah kita menampung direktori dari setiap kelas \n",
        "pada direktori latih dan direktori validasi ke dalam variabel. \n",
        "Pembuatan direktori di sini akan dipakai saat menggunakan \n",
        "objek image data generator.\n",
        "\"\"\"\n",
        "\n",
        "# variable untuk direktori data train\n",
        "train_rock_dir = os.path.join(train_dir, 'rock') # batu\n",
        "train_scissors_dir = os.path.join(train_dir, 'scissors') #  gunting\n",
        "train_paper_dir = os.path.join(train_dir, 'paper')\n",
        "\n",
        "# variable untuk data validation\n",
        "val_rock_dir = os.path.join(val_dir, 'rock') # batu\n",
        "val_scissors_dir = os.path.join(val_dir, 'scissors') #  gunting\n",
        "val_paper_dir = os.path.join(val_dir, 'paper')"
      ],
      "execution_count": 18,
      "outputs": []
    },
    {
      "cell_type": "markdown",
      "metadata": {
        "id": "UVGmJjmPCP7w"
      },
      "source": [
        "**Datasets sudah siap digunakan**"
      ]
    },
    {
      "cell_type": "markdown",
      "metadata": {
        "id": "JMtpuzt8_Svu"
      },
      "source": [
        "# Preprocessing Data\n",
        "Langkah selanjutnya adalah kita membuat sebuah objek ImageDataGenerator \n",
        "untuk data training dan data testing. Image data generator adalah sebuah \n",
        "fungsi yang sangat berguna untuk mempersiapkan data latih dan data testing \n",
        "yang akan diberikan ke model. Beberapa kemudahan yang disediakan Image \n",
        "data generator adalah, preprocessing data, pelabelan sampel otomatis, \n",
        "dan augmentasi gambar."
      ]
    },
    {
      "cell_type": "markdown",
      "metadata": {
        "id": "3TctnBLwCR7T"
      },
      "source": [
        "## Augmentasi Gambar\n",
        "Kode di bawah menunjukkan proses augmentasi gambar pada setiap sampel di dataset. \n",
        "Augmentasi gambar adalah teknik untuk menciptakan data-data baru dari data yang telah ada. \n",
        "Contoh augmentasi gambar adalah horizontal flip di mana gambar akan dibalikkan secara horizontal"
      ]
    },
    {
      "cell_type": "code",
      "metadata": {
        "id": "-IK9cGCmFPid"
      },
      "source": [
        "# import library\n",
        "import tensorflow as tf\n",
        "from tensorflow.keras.preprocessing.image import ImageDataGenerator"
      ],
      "execution_count": 21,
      "outputs": []
    },
    {
      "cell_type": "code",
      "metadata": {
        "id": "QEB8h26kF23w"
      },
      "source": [
        "train_datagen = ImageDataGenerator(\n",
        "                  rescale=1./255.0,\n",
        "                  rotation_range=40,                             \n",
        "                  width_shift_range=0.2,\n",
        "                  height_shift_range=0.2,\n",
        "                  shear_range=0.2,\n",
        "                  zoom_range=0.2,\n",
        "                  horizontal_flip=True,\n",
        "                  fill_mode='nearest')\n",
        "\n",
        "test_datagen = ImageDataGenerator(\n",
        "                  rescale=1./255.0,\n",
        "                  rotation_range=40,                             \n",
        "                  width_shift_range=0.2,\n",
        "                  height_shift_range=0.2,\n",
        "                  shear_range=0.2,\n",
        "                  zoom_range=0.2,\n",
        "                  horizontal_flip=True,\n",
        "                  fill_mode='nearest')"
      ],
      "execution_count": 22,
      "outputs": []
    },
    {
      "cell_type": "code",
      "metadata": {
        "colab": {
          "base_uri": "https://localhost:8080/"
        },
        "id": "-ohi5ViyGRUC",
        "outputId": "6548ed54-151a-456b-9b72-5870f24dda0f"
      },
      "source": [
        "\"\"\"\n",
        "Lalu kita dapat menggunakan objek image data generator sebelumnya untuk \n",
        "mempersiapkan data latih yang akan dipelajari oleh model.\n",
        "\"\"\"\n",
        "\n",
        "# membuat train  generator\n",
        "train_generator = train_datagen.flow_from_directory(\n",
        "                    train_dir, #direktori data latih\n",
        "                    target_size=(150, 150), # mengubah resolusi gambar menjadi 150 x 150 px\n",
        "                    batch_size=16,\n",
        "                    # karna kita merupakan masalah 3 kelas, maka menggunakan categorical class\n",
        "                    shuffle=True,                                                                   \n",
        "                    subset='training',\n",
        "                    class_mode='categorical')\n",
        "\n",
        "# membuat validation generator\n",
        "validation_generator = test_datagen.flow_from_directory(\n",
        "                    val_dir, #direktori data latih\n",
        "                    target_size=(150, 150), # mengubah resolusi gambar menjadi 150 x 150 px\n",
        "                    batch_size=16,\n",
        "                    # karna kita merupakan masalah 3 kelas, maka menggunakan categorical class\n",
        "                    shuffle=True,                                                                   \n",
        "                    subset='training',\n",
        "                    class_mode='categorical')"
      ],
      "execution_count": 23,
      "outputs": [
        {
          "output_type": "stream",
          "text": [
            "Found 1312 images belonging to 3 classes.\n",
            "Found 876 images belonging to 3 classes.\n"
          ],
          "name": "stdout"
        }
      ]
    },
    {
      "cell_type": "markdown",
      "metadata": {
        "id": "bxq4l68_bPhn"
      },
      "source": [
        "# Membangun model saraf tiruan"
      ]
    },
    {
      "cell_type": "code",
      "metadata": {
        "id": "YpS7xzUxIJK1",
        "colab": {
          "base_uri": "https://localhost:8080/"
        },
        "outputId": "be9dfab9-0573-46f6-f309-6a27f6608a77"
      },
      "source": [
        "\"\"\"\n",
        "Setelah data telah siap, kita bisa membangun arsitektur sebuah CNN. \n",
        "Sebuah CNN pada keras mirip dengan MLP untuk klasifikasi fashion MNIST \n",
        "yang kita bahas sebelumnya. Perbedaannya hanya pada terdapatnya 2 lapis \n",
        "layer konvolusi dan max pooling. Anda tentu masih ingat bahwa fungsi dari \n",
        "layer konvolusi adalah untuk mengekstraksi atribut pada gambar. Sedangkan \n",
        "layer max pooling berguna untuk mereduksi resolusi gambar sehingga proses \n",
        "pelatihan MLP lebih cepat.\n",
        "\"\"\"\n",
        "model = tf.keras.models.Sequential([\n",
        "                                    tf.keras.layers.Conv2D(16, (3,3), activation='relu', input_shape=(150, 150, 3)), #Layer Konvolusi pertama\n",
        "                                    tf.keras.layers.MaxPooling2D(2, 2),\n",
        "                                    \n",
        "                                    tf.keras.layers.Conv2D(32, (3,3), activation='relu'),                         #Layer Konvolusi kedua\n",
        "                                    tf.keras.layers.MaxPooling2D(2,2), \n",
        "                                    \n",
        "                                    tf.keras.layers.Conv2D(32, (3,3), activation='relu'),                         #Layer Konvolusi ketiga\n",
        "                                    tf.keras.layers.MaxPooling2D(2,2),\n",
        "                                    \n",
        "                                    tf.keras.layers.Flatten(),                                                    #Layer input untuk Deep Learning Neural Network\n",
        "                                    tf.keras.layers.Dropout(0.5),\n",
        "                                    \n",
        "                                    tf.keras.layers.Dense(128, activation='relu'),                                #Hiden layer pertama dengan 128 neuron\n",
        "                                    \n",
        "                                    tf.keras.layers.Dense(512, activation='relu'),                                #Hiden layer kedua dengan 512 neuron\n",
        "\n",
        "                                    tf.keras.layers.Dense(512, activation='relu'),                                #Hidden layer ketiga dengan 512 neuron\n",
        "                                    \n",
        "                                    tf.keras.layers.Dense(3, activation='softmax')\n",
        "])\n",
        "\n",
        "model.summary()"
      ],
      "execution_count": 57,
      "outputs": [
        {
          "output_type": "stream",
          "text": [
            "Model: \"sequential_3\"\n",
            "_________________________________________________________________\n",
            "Layer (type)                 Output Shape              Param #   \n",
            "=================================================================\n",
            "conv2d_9 (Conv2D)            (None, 148, 148, 16)      448       \n",
            "_________________________________________________________________\n",
            "max_pooling2d_9 (MaxPooling2 (None, 74, 74, 16)        0         \n",
            "_________________________________________________________________\n",
            "conv2d_10 (Conv2D)           (None, 72, 72, 32)        4640      \n",
            "_________________________________________________________________\n",
            "max_pooling2d_10 (MaxPooling (None, 36, 36, 32)        0         \n",
            "_________________________________________________________________\n",
            "conv2d_11 (Conv2D)           (None, 34, 34, 32)        9248      \n",
            "_________________________________________________________________\n",
            "max_pooling2d_11 (MaxPooling (None, 17, 17, 32)        0         \n",
            "_________________________________________________________________\n",
            "flatten_3 (Flatten)          (None, 9248)              0         \n",
            "_________________________________________________________________\n",
            "dropout_3 (Dropout)          (None, 9248)              0         \n",
            "_________________________________________________________________\n",
            "dense_12 (Dense)             (None, 128)               1183872   \n",
            "_________________________________________________________________\n",
            "dense_13 (Dense)             (None, 512)               66048     \n",
            "_________________________________________________________________\n",
            "dense_14 (Dense)             (None, 512)               262656    \n",
            "_________________________________________________________________\n",
            "dense_15 (Dense)             (None, 3)                 1539      \n",
            "=================================================================\n",
            "Total params: 1,528,451\n",
            "Trainable params: 1,528,451\n",
            "Non-trainable params: 0\n",
            "_________________________________________________________________\n"
          ],
          "name": "stdout"
        }
      ]
    },
    {
      "cell_type": "code",
      "metadata": {
        "id": "q0_gDsc-JLRl"
      },
      "source": [
        "# compile model dengan adam optimizer loss function 'categorical_crossentropy'\n",
        "model.compile(optimizer='rmsprop',\n",
        "              loss='categorical_crossentropy',\n",
        "              metrics=['accuracy'])"
      ],
      "execution_count": 58,
      "outputs": []
    },
    {
      "cell_type": "markdown",
      "metadata": {
        "id": "KR1vt8wMbpd1"
      },
      "source": [
        "# Melatih model saraf tiruan"
      ]
    },
    {
      "cell_type": "code",
      "metadata": {
        "colab": {
          "base_uri": "https://localhost:8080/"
        },
        "id": "KrBnWEnbJitP",
        "outputId": "96609889-fe25-4e99-bc98-dbb6f5ea538b"
      },
      "source": [
        "\"\"\"\n",
        "Setelah menentukan loss function dan optimizer pada CNN, kita dapat melatih \n",
        "model kita menggunakan metode fit. Dengan menggunakan image data generator, \n",
        "kita tidak perlu memasukkan parameter gambar dan labelnya. Image data \n",
        "generator secara otomatis melabeli sebuah gambar sesuai dengan direktori \n",
        "di mana ia disimpan. Contohnya sebuah gambar yang terdapat di direktori clean, \n",
        "secara otomatis akan diberi label “clean” oleh image data generator.\n",
        "\"\"\"\n",
        "\n",
        "history = model.fit(train_generator, \n",
        "          steps_per_epoch=len(train_generator), # jumlah batch yang akan dieksekusi setiap epoch\n",
        "          epochs=12,\n",
        "          validation_data=validation_generator, # menampilkan akurasi pengujian data validasi\n",
        "          validation_steps=len(validation_generator),\n",
        "          verbose=1)"
      ],
      "execution_count": 59,
      "outputs": [
        {
          "output_type": "stream",
          "text": [
            "Epoch 1/12\n",
            "82/82 [==============================] - 44s 526ms/step - loss: 1.1257 - accuracy: 0.3500 - val_loss: 1.0607 - val_accuracy: 0.4110\n",
            "Epoch 2/12\n",
            "82/82 [==============================] - 43s 524ms/step - loss: 1.0519 - accuracy: 0.4633 - val_loss: 0.7486 - val_accuracy: 0.6747\n",
            "Epoch 3/12\n",
            "82/82 [==============================] - 43s 526ms/step - loss: 0.7737 - accuracy: 0.6737 - val_loss: 0.6051 - val_accuracy: 0.7728\n",
            "Epoch 4/12\n",
            "82/82 [==============================] - 43s 520ms/step - loss: 0.6984 - accuracy: 0.6927 - val_loss: 0.5953 - val_accuracy: 0.7477\n",
            "Epoch 5/12\n",
            "82/82 [==============================] - 43s 521ms/step - loss: 0.6069 - accuracy: 0.7543 - val_loss: 0.4742 - val_accuracy: 0.8082\n",
            "Epoch 6/12\n",
            "82/82 [==============================] - 43s 519ms/step - loss: 0.5535 - accuracy: 0.7763 - val_loss: 0.7209 - val_accuracy: 0.7180\n",
            "Epoch 7/12\n",
            "82/82 [==============================] - 47s 570ms/step - loss: 0.4892 - accuracy: 0.8094 - val_loss: 0.3437 - val_accuracy: 0.8744\n",
            "Epoch 8/12\n",
            "82/82 [==============================] - 43s 519ms/step - loss: 0.3921 - accuracy: 0.8485 - val_loss: 0.3072 - val_accuracy: 0.8938\n",
            "Epoch 9/12\n",
            "82/82 [==============================] - 43s 519ms/step - loss: 0.3509 - accuracy: 0.8796 - val_loss: 0.2756 - val_accuracy: 0.8973\n",
            "Epoch 10/12\n",
            "82/82 [==============================] - 42s 514ms/step - loss: 0.2976 - accuracy: 0.9049 - val_loss: 0.2414 - val_accuracy: 0.9167\n",
            "Epoch 11/12\n",
            "82/82 [==============================] - 43s 519ms/step - loss: 0.2878 - accuracy: 0.9087 - val_loss: 0.2838 - val_accuracy: 0.8927\n",
            "Epoch 12/12\n",
            "82/82 [==============================] - 43s 519ms/step - loss: 0.2465 - accuracy: 0.9020 - val_loss: 0.2557 - val_accuracy: 0.9041\n"
          ],
          "name": "stdout"
        }
      ]
    },
    {
      "cell_type": "markdown",
      "metadata": {
        "id": "WoLGvK5SbwQL"
      },
      "source": [
        "# Plot akurasi model"
      ]
    },
    {
      "cell_type": "code",
      "metadata": {
        "id": "FgxlBmlBb1wz"
      },
      "source": [
        "# import library\n",
        "import matplotlib.pyplot as plt"
      ],
      "execution_count": 60,
      "outputs": []
    },
    {
      "cell_type": "code",
      "metadata": {
        "colab": {
          "base_uri": "https://localhost:8080/",
          "height": 298
        },
        "id": "12jLfec4b9lo",
        "outputId": "8c1770e7-33f4-4d19-c850-03ceb9878446"
      },
      "source": [
        "acc = history.history['accuracy']\n",
        "val_acc = history.history['val_accuracy']\n",
        "loss = history.history['loss']\n",
        "val_loss = history.history['val_loss']\n",
        "\n",
        "epochs = range(len(acc))\n",
        "\n",
        "plt.plot(epochs, acc, 'r', label='Akurasi Training ')                 \n",
        "plt.plot(epochs, val_acc, 'b', label='Akurasi Validasi')\n",
        "plt.title('Akurasi Training dan Validasi')\n",
        "plt.legend(loc=0) \n",
        "plt.figure()                                                                      \n",
        "plt.show()"
      ],
      "execution_count": 61,
      "outputs": [
        {
          "output_type": "display_data",
          "data": {
            "image/png": "[encoded data removed]",
            "text/plain": [
              "<Figure size 432x288 with 1 Axes>"
            ]
          },
          "metadata": {
            "tags": [],
            "needs_background": "light"
          }
        },
        {
          "output_type": "display_data",
          "data": {
            "text/plain": [
              "<Figure size 432x288 with 0 Axes>"
            ]
          },
          "metadata": {
            "tags": []
          }
        }
      ]
    },
    {
      "cell_type": "markdown",
      "metadata": {
        "id": "PBk7bhclmoRF"
      },
      "source": [
        "# Prediksi gambar dengan model"
      ]
    },
    {
      "cell_type": "code",
      "metadata": {
        "colab": {
          "resources": {
            "http://localhost:8080/nbextensions/google.colab/files.js": {
              "data": "Ly8gQ29weXJpZ2h0IDIwMTcgR29vZ2xlIExMQwovLwovLyBMaWNlbnNlZCB1bmRlciB0aGUgQXBhY2hlIExpY2Vuc2UsIFZlcnNpb24gMi4wICh0aGUgIkxpY2Vuc2UiKTsKLy8geW91IG1heSBub3QgdXNlIHRoaXMgZmlsZSBleGNlcHQgaW4gY29tcGxpYW5jZSB3aXRoIHRoZSBMaWNlbnNlLgovLyBZb3UgbWF5IG9idGFpbiBhIGNvcHkgb2YgdGhlIExpY2Vuc2UgYXQKLy8KLy8gICAgICBodHRwOi8vd3d3LmFwYWNoZS5vcmcvbGljZW5zZXMvTElDRU5TRS0yLjAKLy8KLy8gVW5sZXNzIHJlcXVpcmVkIGJ5IGFwcGxpY2FibGUgbGF3IG9yIGFncmVlZCB0byBpbiB3cml0aW5nLCBzb2Z0d2FyZQovLyBkaXN0cmlidXRlZCB1bmRlciB0aGUgTGljZW5zZSBpcyBkaXN0cmlidXRlZCBvbiBhbiAiQVMgSVMiIEJBU0lTLAovLyBXSVRIT1VUIFdBUlJBTlRJRVMgT1IgQ09ORElUSU9OUyBPRiBBTlkgS0lORCwgZWl0aGVyIGV4cHJlc3Mgb3IgaW1wbGllZC4KLy8gU2VlIHRoZSBMaWNlbnNlIGZvciB0aGUgc3BlY2lmaWMgbGFuZ3VhZ2UgZ292ZXJuaW5nIHBlcm1pc3Npb25zIGFuZAovLyBsaW1pdGF0aW9ucyB1bmRlciB0aGUgTGljZW5zZS4KCi8qKgogKiBAZmlsZW92ZXJ2aWV3IEhlbHBlcnMgZm9yIGdvb2dsZS5jb2xhYiBQeXRob24gbW9kdWxlLgogKi8KKGZ1bmN0aW9uKHNjb3BlKSB7CmZ1bmN0aW9uIHNwYW4odGV4dCwgc3R5bGVBdHRyaWJ1dGVzID0ge30pIHsKICBjb25zdCBlbGVtZW50ID0gZG9jdW1lbnQuY3JlYXRlRWxlbWVudCgnc3BhbicpOwogIGVsZW1lbnQudGV4dENvbnRlbnQgPSB0ZXh0OwogIGZvciAoY29uc3Qga2V5IG9mIE9iamVjdC5rZXlzKHN0eWxlQXR0cmlidXRlcykpIHsKICAgIGVsZW1lbnQuc3R5bGVba2V5XSA9IHN0eWxlQXR0cmlidXRlc1trZXldOwogIH0KICByZXR1cm4gZWxlbWVudDsKfQoKLy8gTWF4IG51bWJlciBvZiBieXRlcyB3aGljaCB3aWxsIGJlIHVwbG9hZGVkIGF0IGEgdGltZS4KY29uc3QgTUFYX1BBWUxPQURfU0laRSA9IDEwMCAqIDEwMjQ7CgpmdW5jdGlvbiBfdXBsb2FkRmlsZXMoaW5wdXRJZCwgb3V0cHV0SWQpIHsKICBjb25zdCBzdGVwcyA9IHVwbG9hZEZpbGVzU3RlcChpbnB1dElkLCBvdXRwdXRJZCk7CiAgY29uc3Qgb3V0cHV0RWxlbWVudCA9IGRvY3VtZW50LmdldEVsZW1lbnRCeUlkKG91dHB1dElkKTsKICAvLyBDYWNoZSBzdGVwcyBvbiB0aGUgb3V0cHV0RWxlbWVudCB0byBtYWtlIGl0IGF2YWlsYWJsZSBmb3IgdGhlIG5leHQgY2FsbAogIC8vIHRvIHVwbG9hZEZpbGVzQ29udGludWUgZnJvbSBQeXRob24uCiAgb3V0cHV0RWxlbWVudC5zdGVwcyA9IHN0ZXBzOwoKICByZXR1cm4gX3VwbG9hZEZpbGVzQ29udGludWUob3V0cHV0SWQpOwp9CgovLyBUaGlzIGlzIHJvdWdobHkgYW4gYXN5bmMgZ2VuZXJhdG9yIChub3Qgc3VwcG9ydGVkIGluIHRoZSBicm93c2VyIHlldCksCi8vIHdoZXJlIHRoZXJlIGFyZSBtdWx0aXBsZSBhc3luY2hyb25vdXMgc3RlcHMgYW5kIHRoZSBQeXRob24gc2lkZSBpcyBnb2luZwovLyB0byBwb2xsIGZvciBjb21wbGV0aW9uIG9mIGVhY2ggc3RlcC4KLy8gVGhpcyB1c2VzIGEgUHJvbWlzZSB0byBibG9jayB0aGUgcHl0aG9uIHNpZGUgb24gY29tcGxldGlvbiBvZiBlYWNoIHN0ZXAsCi8vIHRoZW4gcGFzc2VzIHRoZSByZXN1bHQgb2YgdGhlIHByZXZpb3VzIHN0ZXAgYXMgdGhlIGlucHV0IHRvIHRoZSBuZXh0IHN0ZXAuCmZ1bmN0aW9uIF91cGxvYWRGaWxlc0NvbnRpbnVlKG91dHB1dElkKSB7CiAgY29uc3Qgb3V0cHV0RWxlbWVudCA9IGRvY3VtZW50LmdldEVsZW1lbnRCeUlkKG91dHB1dElkKTsKICBjb25zdCBzdGVwcyA9IG91dHB1dEVsZW1lbnQuc3RlcHM7CgogIGNvbnN0IG5leHQgPSBzdGVwcy5uZXh0KG91dHB1dEVsZW1lbnQubGFzdFByb21pc2VWYWx1ZSk7CiAgcmV0dXJuIFByb21pc2UucmVzb2x2ZShuZXh0LnZhbHVlLnByb21pc2UpLnRoZW4oKHZhbHVlKSA9PiB7CiAgICAvLyBDYWNoZSB0aGUgbGFzdCBwcm9taXNlIHZhbHVlIHRvIG1ha2UgaXQgYXZhaWxhYmxlIHRvIHRoZSBuZXh0CiAgICAvLyBzdGVwIG9mIHRoZSBnZW5lcmF0b3IuCiAgICBvdXRwdXRFbGVtZW50Lmxhc3RQcm9taXNlVmFsdWUgPSB2YWx1ZTsKICAgIHJldHVybiBuZXh0LnZhbHVlLnJlc3BvbnNlOwogIH0pOwp9CgovKioKICogR2VuZXJhdG9yIGZ1bmN0aW9uIHdoaWNoIGlzIGNhbGxlZCBiZXR3ZWVuIGVhY2ggYXN5bmMgc3RlcCBvZiB0aGUgdXBsb2FkCiAqIHByb2Nlc3MuCiAqIEBwYXJhbSB7c3RyaW5nfSBpbnB1dElkIEVsZW1lbnQgSUQgb2YgdGhlIGlucHV0IGZpbGUgcGlja2VyIGVsZW1lbnQuCiAqIEBwYXJhbSB7c3RyaW5nfSBvdXRwdXRJZCBFbGVtZW50IElEIG9mIHRoZSBvdXRwdXQgZGlzcGxheS4KICogQHJldHVybiB7IUl0ZXJhYmxlPCFPYmplY3Q+fSBJdGVyYWJsZSBvZiBuZXh0IHN0ZXBzLgogKi8KZnVuY3Rpb24qIHVwbG9hZEZpbGVzU3RlcChpbnB1dElkLCBvdXRwdXRJZCkgewogIGNvbnN0IGlucHV0RWxlbWVudCA9IGRvY3VtZW50LmdldEVsZW1lbnRCeUlkKGlucHV0SWQpOwogIGlucHV0RWxlbWVudC5kaXNhYmxlZCA9IGZhbHNlOwoKICBjb25zdCBvdXRwdXRFbGVtZW50ID0gZG9jdW1lbnQuZ2V0RWxlbWVudEJ5SWQob3V0cHV0SWQpOwogIG91dHB1dEVsZW1lbnQuaW5uZXJIVE1MID0gJyc7CgogIGNvbnN0IHBpY2tlZFByb21pc2UgPSBuZXcgUHJvbWlzZSgocmVzb2x2ZSkgPT4gewogICAgaW5wdXRFbGVtZW50LmFkZEV2ZW50TGlzdGVuZXIoJ2NoYW5nZScsIChlKSA9PiB7CiAgICAgIHJlc29sdmUoZS50YXJnZXQuZmlsZXMpOwogICAgfSk7CiAgfSk7CgogIGNvbnN0IGNhbmNlbCA9IGRvY3VtZW50LmNyZWF0ZUVsZW1lbnQoJ2J1dHRvbicpOwogIGlucHV0RWxlbWVudC5wYXJlbnRFbGVtZW50LmFwcGVuZENoaWxkKGNhbmNlbCk7CiAgY2FuY2VsLnRleHRDb250ZW50ID0gJ0NhbmNlbCB1cGxvYWQnOwogIGNvbnN0IGNhbmNlbFByb21pc2UgPSBuZXcgUHJvbWlzZSgocmVzb2x2ZSkgPT4gewogICAgY2FuY2VsLm9uY2xpY2sgPSAoKSA9PiB7CiAgICAgIHJlc29sdmUobnVsbCk7CiAgICB9OwogIH0pOwoKICAvLyBXYWl0IGZvciB0aGUgdXNlciB0byBwaWNrIHRoZSBmaWxlcy4KICBjb25zdCBmaWxlcyA9IHlpZWxkIHsKICAgIHByb21pc2U6IFByb21pc2UucmFjZShbcGlja2VkUHJvbWlzZSwgY2FuY2VsUHJvbWlzZV0pLAogICAgcmVzcG9uc2U6IHsKICAgICAgYWN0aW9uOiAnc3RhcnRpbmcnLAogICAgfQogIH07CgogIGNhbmNlbC5yZW1vdmUoKTsKCiAgLy8gRGlzYWJsZSB0aGUgaW5wdXQgZWxlbWVudCBzaW5jZSBmdXJ0aGVyIHBpY2tzIGFyZSBub3QgYWxsb3dlZC4KICBpbnB1dEVsZW1lbnQuZGlzYWJsZWQgPSB0cnVlOwoKICBpZiAoIWZpbGVzKSB7CiAgICByZXR1cm4gewogICAgICByZXNwb25zZTogewogICAgICAgIGFjdGlvbjogJ2NvbXBsZXRlJywKICAgICAgfQogICAgfTsKICB9CgogIGZvciAoY29uc3QgZmlsZSBvZiBmaWxlcykgewogICAgY29uc3QgbGkgPSBkb2N1bWVudC5jcmVhdGVFbGVtZW50KCdsaScpOwogICAgbGkuYXBwZW5kKHNwYW4oZmlsZS5uYW1lLCB7Zm9udFdlaWdodDogJ2JvbGQnfSkpOwogICAgbGkuYXBwZW5kKHNwYW4oCiAgICAgICAgYCgke2ZpbGUudHlwZSB8fCAnbi9hJ30pIC0gJHtmaWxlLnNpemV9IGJ5dGVzLCBgICsKICAgICAgICBgbGFzdCBtb2RpZmllZDogJHsKICAgICAgICAgICAgZmlsZS5sYXN0TW9kaWZpZWREYXRlID8gZmlsZS5sYXN0TW9kaWZpZWREYXRlLnRvTG9jYWxlRGF0ZVN0cmluZygpIDoKICAgICAgICAgICAgICAgICAgICAgICAgICAgICAgICAgICAgJ24vYSd9IC0gYCkpOwogICAgY29uc3QgcGVyY2VudCA9IHNwYW4oJzAlIGRvbmUnKTsKICAgIGxpLmFwcGVuZENoaWxkKHBlcmNlbnQpOwoKICAgIG91dHB1dEVsZW1lbnQuYXBwZW5kQ2hpbGQobGkpOwoKICAgIGNvbnN0IGZpbGVEYXRhUHJvbWlzZSA9IG5ldyBQcm9taXNlKChyZXNvbHZlKSA9PiB7CiAgICAgIGNvbnN0IHJlYWRlciA9IG5ldyBGaWxlUmVhZGVyKCk7CiAgICAgIHJlYWRlci5vbmxvYWQgPSAoZSkgPT4gewogICAgICAgIHJlc29sdmUoZS50YXJnZXQucmVzdWx0KTsKICAgICAgfTsKICAgICAgcmVhZGVyLnJlYWRBc0FycmF5QnVmZmVyKGZpbGUpOwogICAgfSk7CiAgICAvLyBXYWl0IGZvciB0aGUgZGF0YSB0byBiZSByZWFkeS4KICAgIGxldCBmaWxlRGF0YSA9IHlpZWxkIHsKICAgICAgcHJvbWlzZTogZmlsZURhdGFQcm9taXNlLAogICAgICByZXNwb25zZTogewogICAgICAgIGFjdGlvbjogJ2NvbnRpbnVlJywKICAgICAgfQogICAgfTsKCiAgICAvLyBVc2UgYSBjaHVua2VkIHNlbmRpbmcgdG8gYXZvaWQgbWVzc2FnZSBzaXplIGxpbWl0cy4gU2VlIGIvNjIxMTU2NjAuCiAgICBsZXQgcG9zaXRpb24gPSAwOwogICAgd2hpbGUgKHBvc2l0aW9uIDwgZmlsZURhdGEuYnl0ZUxlbmd0aCkgewogICAgICBjb25zdCBsZW5ndGggPSBNYXRoLm1pbihmaWxlRGF0YS5ieXRlTGVuZ3RoIC0gcG9zaXRpb24sIE1BWF9QQVlMT0FEX1NJWkUpOwogICAgICBjb25zdCBjaHVuayA9IG5ldyBVaW50OEFycmF5KGZpbGVEYXRhLCBwb3NpdGlvbiwgbGVuZ3RoKTsKICAgICAgcG9zaXRpb24gKz0gbGVuZ3RoOwoKICAgICAgY29uc3QgYmFzZTY0ID0gYnRvYShTdHJpbmcuZnJvbUNoYXJDb2RlLmFwcGx5KG51bGwsIGNodW5rKSk7CiAgICAgIHlpZWxkIHsKICAgICAgICByZXNwb25zZTogewogICAgICAgICAgYWN0aW9uOiAnYXBwZW5kJywKICAgICAgICAgIGZpbGU6IGZpbGUubmFtZSwKICAgICAgICAgIGRhdGE6IGJhc2U2NCwKICAgICAgICB9LAogICAgICB9OwogICAgICBwZXJjZW50LnRleHRDb250ZW50ID0KICAgICAgICAgIGAke01hdGgucm91bmQoKHBvc2l0aW9uIC8gZmlsZURhdGEuYnl0ZUxlbmd0aCkgKiAxMDApfSUgZG9uZWA7CiAgICB9CiAgfQoKICAvLyBBbGwgZG9uZS4KICB5aWVsZCB7CiAgICByZXNwb25zZTogewogICAgICBhY3Rpb246ICdjb21wbGV0ZScsCiAgICB9CiAgfTsKfQoKc2NvcGUuZ29vZ2xlID0gc2NvcGUuZ29vZ2xlIHx8IHt9OwpzY29wZS5nb29nbGUuY29sYWIgPSBzY29wZS5nb29nbGUuY29sYWIgfHwge307CnNjb3BlLmdvb2dsZS5jb2xhYi5fZmlsZXMgPSB7CiAgX3VwbG9hZEZpbGVzLAogIF91cGxvYWRGaWxlc0NvbnRpbnVlLAp9Owp9KShzZWxmKTsK",
              "ok": true,
              "headers": [
                [
                  "content-type",
                  "application/javascript"
                ]
              ],
              "status": 200,
              "status_text": ""
            }
          },
          "base_uri": "https://localhost:8080/",
          "height": 358
        },
        "id": "0dOuTInaVFY-",
        "outputId": "ca485ef6-5116-4e4e-b639-efacc4d9cfb5"
      },
      "source": [
        "# import library\n",
        "import numpy as np\n",
        "from google.colab import files\n",
        "from keras.preprocessing import image\n",
        "import matplotlib.pyplot as plt\n",
        "import matplotlib.image as mimg\n",
        "%matplotlib inline\n",
        "\n",
        "uploaded = files.upload()\n",
        "\n",
        "for fn in uploaded.keys() :\n",
        "\n",
        "  # prediksi image\n",
        "  path = fn\n",
        "  img = image.load_img(path, target_size=(150, 150))\n",
        "  imgplot = plt.imshow(img)\n",
        "  x = image.img_to_array(img)\n",
        "  x = np.expand_dims(x, axis=0)\n",
        "\n",
        "  images = np.vstack([x])\n",
        "  classes = model.predict(images, batch_size=16)\n",
        "\n",
        "  print(fn)\n",
        "  \n",
        "  if classes[0][0] == 1 :\n",
        "    print(\"Bentuk tangan tersebut menunjukan bentuk KERTAS\")\n",
        "  elif classes[0][1] == 1 :\n",
        "    print(\"Bentuk tangan tersebut menunjukan bentuk BATU\")\n",
        "  elif classes[0][2] == 1 :\n",
        "    print(\"Bentuk tangan tersebut menunjukan bentuk GUNTING\")\n",
        "  else:\n",
        "    print(\"Bentuk tangan tidak ditemukan\")"
      ],
      "execution_count": 67,
      "outputs": [
        {
          "output_type": "display_data",
          "data": {
            "text/html": [
              "\n",
              "     <input type=\"file\" id=\"files-eb85fc96-48a9-4f4e-bf9e-14dbd3e6be9f\" name=\"files[]\" multiple disabled\n",
              "        style=\"border:none\" />\n",
              "     <output id=\"result-eb85fc96-48a9-4f4e-bf9e-14dbd3e6be9f\">\n",
              "      Upload widget is only available when the cell has been executed in the\n",
              "      current browser session. Please rerun this cell to enable.\n",
              "      </output>\n",
              "      <script src=\"/nbextensions/google.colab/files.js\"></script> "
            ],
            "text/plain": [
              "<IPython.core.display.HTML object>"
            ]
          },
          "metadata": {
            "tags": []
          }
        },
        {
          "output_type": "stream",
          "text": [
            "Saving zepzkaBk60xgpP3C.png to zepzkaBk60xgpP3C.png\n",
            "zepzkaBk60xgpP3C.png\n",
            "Bentuk tangan tersebut menunjukan bentuk GUNTING\n"
          ],
          "name": "stdout"
        },
        {
          "output_type": "display_data",
          "data": {
            "image/png": "[encoded data removed]",
            "text/plain": [
              "<Figure size 432x288 with 1 Axes>"
            ]
          },
          "metadata": {
            "tags": [],
            "needs_background": "light"
          }
        }
      ]
    }
  ]
}